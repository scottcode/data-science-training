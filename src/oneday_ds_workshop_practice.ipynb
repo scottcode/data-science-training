{
 "cells": [
  {
   "cell_type": "markdown",
   "metadata": {},
   "source": [
    "$$\\huge{\\text{Practice with Greenplum and MADlib}}$$"
   ]
  },
  {
   "cell_type": "markdown",
   "metadata": {},
   "source": [
    "In a previous session we saw examples of how to do regression and classification in Greenplum as applied to the Abalone dataset.  Now let's practice applying those techniques to predicting insurance claims. We will use a [sample insurance claims dataset](https://www.kaggle.com/easonlai/sample-insurance-claim-prediction-dataset#insurance3r2.csv) from Kaggle. \n",
    "\n",
    "| Column # | Column name |\n",
    "|  ------  |  ---------  |\n",
    "|    1     | age |\n",
    "|    2     | sex |\n",
    "|    3     | bmi |\n",
    "|    4     | steps |\n",
    "|    5     | children |\n",
    "|    6     | smoker |\n",
    "|    7     | region |\n",
    "|    8     | charges |\n",
    "|    9     | insuranceclaim |"
   ]
  },
  {
   "cell_type": "code",
   "execution_count": null,
   "metadata": {
    "ExecuteTime": {
     "end_time": "2019-01-17T20:56:21.866829Z",
     "start_time": "2019-01-17T20:56:21.312894Z"
    }
   },
   "outputs": [],
   "source": [
    "import dbconnect"
   ]
  },
  {
   "cell_type": "code",
   "execution_count": null,
   "metadata": {
    "ExecuteTime": {
     "end_time": "2019-01-17T20:56:21.923061Z",
     "start_time": "2019-01-17T20:56:21.868490Z"
    }
   },
   "outputs": [],
   "source": [
    "db_credential_file = '../.dbcred'\n",
    "dbconnect.connect_and_register_sql_magic(\n",
    "    db_credential_file,\n",
    "    conn_name='conn'\n",
    ")"
   ]
  },
  {
   "cell_type": "code",
   "execution_count": null,
   "metadata": {
    "ExecuteTime": {
     "end_time": "2019-01-17T20:56:26.709095Z",
     "start_time": "2019-01-17T20:56:26.706593Z"
    }
   },
   "outputs": [],
   "source": [
    "import math\n",
    "import pandas as pd\n",
    "from sqlalchemy import create_engine"
   ]
  },
  {
   "cell_type": "code",
   "execution_count": null,
   "metadata": {
    "ExecuteTime": {
     "end_time": "2019-01-17T20:56:31.117843Z",
     "start_time": "2019-01-17T20:56:31.115413Z"
    }
   },
   "outputs": [],
   "source": [
    "pd.set_option('display.max_columns', 200)"
   ]
  },
  {
   "cell_type": "code",
   "execution_count": null,
   "metadata": {
    "ExecuteTime": {
     "end_time": "2019-01-17T21:01:41.561039Z",
     "start_time": "2019-01-17T21:01:41.558603Z"
    }
   },
   "outputs": [],
   "source": [
    "schema = 'ds_practice'"
   ]
  },
  {
   "cell_type": "code",
   "execution_count": null,
   "metadata": {
    "ExecuteTime": {
     "end_time": "2019-01-17T21:01:44.854146Z",
     "start_time": "2019-01-17T21:01:43.216349Z"
    }
   },
   "outputs": [],
   "source": [
    "%read_sql DROP SCHEMA IF EXISTS {schema} CASCADE;\n",
    "%read_sql CREATE SCHEMA {schema};"
   ]
  },
  {
   "cell_type": "markdown",
   "metadata": {},
   "source": [
    "# Load Data"
   ]
  },
  {
   "cell_type": "code",
   "execution_count": null,
   "metadata": {
    "ExecuteTime": {
     "end_time": "2019-01-17T21:01:55.874044Z",
     "start_time": "2019-01-17T21:01:55.871695Z"
    }
   },
   "outputs": [],
   "source": [
    "claims_data_path = '../input/insurance3r2.csv'"
   ]
  },
  {
   "cell_type": "code",
   "execution_count": null,
   "metadata": {
    "ExecuteTime": {
     "end_time": "2019-01-17T21:01:56.047331Z",
     "start_time": "2019-01-17T21:01:56.039789Z"
    }
   },
   "outputs": [],
   "source": [
    "df_claims = pd.read_csv(claims_data_path)"
   ]
  },
  {
   "cell_type": "code",
   "execution_count": null,
   "metadata": {
    "ExecuteTime": {
     "end_time": "2019-01-17T21:01:57.807563Z",
     "start_time": "2019-01-17T21:01:57.800076Z"
    }
   },
   "outputs": [],
   "source": [
    "df_claims.info()"
   ]
  },
  {
   "cell_type": "code",
   "execution_count": null,
   "metadata": {
    "ExecuteTime": {
     "end_time": "2019-01-17T21:02:01.533718Z",
     "start_time": "2019-01-17T21:01:58.849160Z"
    }
   },
   "outputs": [],
   "source": [
    "df_claims.to_sql(\n",
    "    'claims', \n",
    "    conn, \n",
    "    schema=schema, \n",
    "    if_exists='replace', \n",
    "    index=True, \n",
    "    index_label='id',\n",
    "    chunksize=10000)"
   ]
  },
  {
   "cell_type": "markdown",
   "metadata": {},
   "source": [
    "# Explore"
   ]
  },
  {
   "cell_type": "code",
   "execution_count": null,
   "metadata": {
    "ExecuteTime": {
     "end_time": "2019-01-17T21:12:28.059292Z",
     "start_time": "2019-01-17T21:12:26.468085Z"
    }
   },
   "outputs": [],
   "source": [
    "%%read_sql\n",
    "DROP TABLE IF EXISTS {schema}.claims_summary CASCADE;\n",
    "SELECT madlib.summary(\n",
    "    '{schema}.claims',   -- source_table\n",
    "    '{schema}.claims_summary',  -- output_table\n",
    "    NULL,  -- target_cols\n",
    "    NULL,  -- grouping_cols\n",
    "    TRUE,  -- get_distinct\n",
    "    TRUE,  -- get_quartiles\n",
    "    NULL,  -- ntile_array\n",
    "    10,  -- how_many_mfv\n",
    "    FALSE  -- get_estimates\n",
    ")"
   ]
  },
  {
   "cell_type": "code",
   "execution_count": null,
   "metadata": {
    "ExecuteTime": {
     "end_time": "2019-01-17T21:12:31.203744Z",
     "start_time": "2019-01-17T21:12:30.437044Z"
    }
   },
   "outputs": [],
   "source": [
    "%%read_sql\n",
    "SELECT * FROM {schema}.claims_summary\n",
    "ORDER BY column_number"
   ]
  },
  {
   "cell_type": "markdown",
   "metadata": {},
   "source": [
    "# Encode categorical variables"
   ]
  },
  {
   "cell_type": "markdown",
   "metadata": {},
   "source": [
    "Convert region to `varchar` data type so the categorical encoding will work"
   ]
  },
  {
   "cell_type": "code",
   "execution_count": null,
   "metadata": {
    "ExecuteTime": {
     "end_time": "2019-01-17T21:52:14.588729Z",
     "start_time": "2019-01-17T21:52:13.476208Z"
    }
   },
   "outputs": [],
   "source": [
    "%%read_sql\n",
    "DROP TABLE IF EXISTS {schema}.claims_region_text CASCADE;\n",
    "CREATE TABLE {schema}.claims_region_text\n",
    "AS\n",
    "SELECT\n",
    "    age,\n",
    "    sex,\n",
    "    bmi,\n",
    "    steps,\n",
    "    children,\n",
    "    smoker,\n",
    "    region::varchar as region,\n",
    "    charges,\n",
    "    insuranceclaim,\n",
    "    insuranceclaim > 0 as insuranceclaim_bool\n",
    "FROM {schema}.claims"
   ]
  },
  {
   "cell_type": "code",
   "execution_count": null,
   "metadata": {
    "ExecuteTime": {
     "end_time": "2019-01-17T21:52:16.865917Z",
     "start_time": "2019-01-17T21:52:15.532438Z"
    }
   },
   "outputs": [],
   "source": [
    "%%read_sql\n",
    "DROP TABLE IF EXISTS {schema}.claims_encoded CASCADE;\n",
    "SELECT madlib.encode_categorical_variables(\n",
    "    '{schema}.claims_region_text',  -- input table\n",
    "    '{schema}.claims_encoded',  -- output table\n",
    "    'region'   -- categorical_cols\n",
    ")"
   ]
  },
  {
   "cell_type": "code",
   "execution_count": null,
   "metadata": {
    "ExecuteTime": {
     "end_time": "2019-01-17T21:52:18.648975Z",
     "start_time": "2019-01-17T21:52:18.116648Z"
    }
   },
   "outputs": [],
   "source": [
    "%%read_sql\n",
    "SELECT * FROM {schema}.claims_encoded\n",
    "LIMIT 5"
   ]
  },
  {
   "cell_type": "code",
   "execution_count": null,
   "metadata": {
    "ExecuteTime": {
     "end_time": "2019-01-17T21:52:27.758685Z",
     "start_time": "2019-01-17T21:52:25.899721Z"
    }
   },
   "outputs": [],
   "source": [
    "%%read_sql\n",
    "DROP TABLE IF EXISTS {schema}.claims_correlations CASCADE;\n",
    "DROP TABLE IF EXISTS {schema}.claims_correlations_summary CASCADE;\n",
    "SELECT\n",
    "madlib.correlation(\n",
    "    '{schema}.claims_encoded', -- source_table,\n",
    "    '{schema}.claims_correlations', -- output_table,\n",
    "    'age,sex,bmi,steps,children,smoker,charges,insuranceclaim,region_0,region_1,region_2,region_3', -- target_cols,\n",
    "    TRUE, -- verbose,\n",
    "    NULL  -- grouping_columns\n",
    ")"
   ]
  },
  {
   "cell_type": "code",
   "execution_count": null,
   "metadata": {
    "ExecuteTime": {
     "end_time": "2019-01-17T21:52:37.238947Z",
     "start_time": "2019-01-17T21:52:36.691463Z"
    }
   },
   "outputs": [],
   "source": [
    "%%read_sql\n",
    "SELECT * FROM {schema}.claims_correlations\n",
    "ORDER BY\n",
    "    column_position"
   ]
  },
  {
   "cell_type": "code",
   "execution_count": null,
   "metadata": {
    "ExecuteTime": {
     "end_time": "2019-01-17T21:57:05.336064Z",
     "start_time": "2019-01-17T21:57:02.946854Z"
    }
   },
   "outputs": [],
   "source": [
    "%%read_sql\n",
    "DROP TABLE IF EXISTS {schema}.claims_eval CASCADE;\n",
    "DROP TABLE IF EXISTS {schema}.claims_eval_train CASCADE;\n",
    "DROP TABLE IF EXISTS {schema}.claims_eval_test CASCADE;\n",
    "SELECT madlib.train_test_split(\n",
    "    '{schema}.claims_encoded', -- source_table,\n",
    "    '{schema}.claims_eval', -- output_table,\n",
    "    0.7, -- train_proportion,\n",
    "    NULL, -- test_proportion,\n",
    "    NULL, -- grouping_cols,\n",
    "    'age,sex,bmi,steps,children,smoker,charges,region_0,region_1,region_2,region_3,insuranceclaim,insuranceclaim_bool', -- target_cols,\n",
    "    FALSE, -- with_replacement,\n",
    "    TRUE -- separate_output_tables\n",
    ")"
   ]
  },
  {
   "cell_type": "code",
   "execution_count": null,
   "metadata": {
    "ExecuteTime": {
     "end_time": "2019-01-17T21:57:11.233205Z",
     "start_time": "2019-01-17T21:57:10.705050Z"
    }
   },
   "outputs": [],
   "source": [
    "%%read_sql\n",
    "SELECT count(*) as n\n",
    "FROM {schema}.claims_eval_train"
   ]
  },
  {
   "cell_type": "code",
   "execution_count": null,
   "metadata": {
    "ExecuteTime": {
     "end_time": "2019-01-17T21:57:11.871103Z",
     "start_time": "2019-01-17T21:57:11.339474Z"
    }
   },
   "outputs": [],
   "source": [
    "%%read_sql\n",
    "SELECT count(*) as n\n",
    "FROM {schema}.claims_eval_test"
   ]
  },
  {
   "cell_type": "markdown",
   "metadata": {},
   "source": [
    "# Modeling (Classification)"
   ]
  },
  {
   "cell_type": "markdown",
   "metadata": {},
   "source": [
    "## Logistic Regression"
   ]
  },
  {
   "cell_type": "markdown",
   "metadata": {},
   "source": [
    "Note: drop one of the 1-hot-encoded variables (region) to remove perfect collinearity"
   ]
  },
  {
   "cell_type": "code",
   "execution_count": null,
   "metadata": {
    "ExecuteTime": {
     "end_time": "2019-01-17T21:57:45.911474Z",
     "start_time": "2019-01-17T21:57:43.666249Z"
    }
   },
   "outputs": [],
   "source": [
    "%%read_sql\n",
    "DROP TABLE IF EXISTS {schema}.claims_logreg_model;\n",
    "DROP TABLE IF EXISTS {schema}.claims_logreg_model_summary;\n",
    "SELECT madlib.logregr_train(\n",
    "    '{schema}.claims_eval_train', -- source_table,\n",
    "    '{schema}.claims_logreg_model', -- out_table,\n",
    "    'insuranceclaim_bool', -- dependent_varname,\n",
    "    'ARRAY[\n",
    "        1,\n",
    "        age,\n",
    "        sex,\n",
    "        bmi,\n",
    "        steps,\n",
    "        children,\n",
    "        smoker,\n",
    "        charges,\n",
    "        region_0,\n",
    "        region_1,\n",
    "        region_2\n",
    "    ]' -- independent_varname,\n",
    "    --, -- grouping_cols,\n",
    "    --, -- max_iter,\n",
    "    --, -- optimizer,\n",
    "    --, -- tolerance,\n",
    "     -- verbose\n",
    ")"
   ]
  },
  {
   "cell_type": "code",
   "execution_count": null,
   "metadata": {
    "ExecuteTime": {
     "end_time": "2019-01-17T21:57:50.180700Z",
     "start_time": "2019-01-17T21:57:49.640112Z"
    }
   },
   "outputs": [],
   "source": [
    "%%read_sql\n",
    "SELECT * FROM {schema}.claims_logreg_model\n",
    "LIMIT 10"
   ]
  },
  {
   "cell_type": "code",
   "execution_count": null,
   "metadata": {
    "ExecuteTime": {
     "end_time": "2019-01-17T21:58:01.233845Z",
     "start_time": "2019-01-17T21:58:00.075426Z"
    }
   },
   "outputs": [],
   "source": [
    "%%read_sql\n",
    "DROP TABLE IF EXISTS {schema}.claims_logreg_test_proba CASCADE;\n",
    "CREATE TABLE {schema}.claims_logreg_test_proba\n",
    "AS\n",
    "SELECT madlib.logregr_predict_prob(\n",
    "        coef, \n",
    "        ARRAY[\n",
    "            1,\n",
    "            age,\n",
    "            sex,\n",
    "            bmi,\n",
    "            steps,\n",
    "            children,\n",
    "            smoker,\n",
    "            charges,\n",
    "            region_0,\n",
    "            region_1,\n",
    "            region_2\n",
    "        ] \n",
    "    ) as proba,\n",
    "    test.insuranceclaim\n",
    "FROM {schema}.claims_eval_test test, {schema}.claims_logreg_model model\n",
    ";"
   ]
  },
  {
   "cell_type": "code",
   "execution_count": null,
   "metadata": {
    "ExecuteTime": {
     "end_time": "2019-01-17T21:58:04.889376Z",
     "start_time": "2019-01-17T21:58:04.329016Z"
    }
   },
   "outputs": [],
   "source": [
    "%%read_sql\n",
    "SELECT * FROM {schema}.claims_logreg_test_proba\n",
    "LIMIT 10"
   ]
  },
  {
   "cell_type": "code",
   "execution_count": null,
   "metadata": {
    "ExecuteTime": {
     "end_time": "2019-01-17T21:58:45.524360Z",
     "start_time": "2019-01-17T21:58:44.869583Z"
    }
   },
   "outputs": [],
   "source": [
    "%%read_sql\n",
    "SELECT madlib.area_under_roc(\n",
    "    '{schema}.claims_logreg_test_proba', -- table_in, \n",
    "    '{schema}.claims_logreg_test_auc',  --table_out,\n",
    "    'proba',  -- prediction_col, \n",
    "    'insuranceclaim'  --observed_col, \n",
    ")"
   ]
  },
  {
   "cell_type": "code",
   "execution_count": null,
   "metadata": {
    "ExecuteTime": {
     "end_time": "2019-01-17T21:58:55.880636Z",
     "start_time": "2019-01-17T21:58:55.357692Z"
    }
   },
   "outputs": [],
   "source": [
    "%%read_sql\n",
    "SELECT *\n",
    "FROM {schema}.claims_logreg_test_auc"
   ]
  },
  {
   "cell_type": "code",
   "execution_count": null,
   "metadata": {},
   "outputs": [],
   "source": []
  }
 ],
 "metadata": {
  "kernelspec": {
   "display_name": "Python 3.7",
   "language": "python",
   "name": "py37"
  },
  "language_info": {
   "codemirror_mode": {
    "name": "ipython",
    "version": 3
   },
   "file_extension": ".py",
   "mimetype": "text/x-python",
   "name": "python",
   "nbconvert_exporter": "python",
   "pygments_lexer": "ipython3",
   "version": "3.7.0"
  },
  "toc": {
   "base_numbering": 1,
   "nav_menu": {
    "height": "98.9915px",
    "width": "180.994px"
   },
   "number_sections": true,
   "sideBar": true,
   "skip_h1_title": false,
   "title_cell": "Table of Contents",
   "title_sidebar": "Contents",
   "toc_cell": false,
   "toc_position": {},
   "toc_section_display": true,
   "toc_window_display": false
  }
 },
 "nbformat": 4,
 "nbformat_minor": 2
}
