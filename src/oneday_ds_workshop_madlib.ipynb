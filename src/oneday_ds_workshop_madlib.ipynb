{
 "cells": [
  {
   "cell_type": "markdown",
   "metadata": {},
   "source": [
    "$$\\huge{\\text{Data Science Workshop}}$$"
   ]
  },
  {
   "cell_type": "markdown",
   "metadata": {},
   "source": [
    "This notebook serves as an hands-on introduction to the data science pipeline.  Using a single dataset throughout, it begins with loading the data from a Greenplum Database (GPDB), then proceeds to data exploration, feature engineering, model development, and finally, model evaluation.\n",
    "\n",
    "We’ll be using the publicly available [Abalone dataset from the University of California, Irvine Machine Learning Repository](https://archive.ics.uci.edu/ml/datasets/abalone).  The dataset contains eight attributes (including our target prediction column).\n",
    "\n",
    "| Column Name | Data Type | Description|\n",
    "| ---|:---:| ---:|\n",
    "|Sex | text | M,F,I[infant]|\n",
    "| Length | float | Longest shell measurement|\n",
    "|Diameter | float | Perpendicular to length|\n",
    "| Height | float | With meat in shell |\n",
    "| Whole weight | float | Whole abalone |\n",
    "| Shucked weight | float | Weight of meat only |\n",
    "| Viscera weight | float | Gut weight (after bleeding) |\n",
    "| Shell weight | float | Post-drying |\n",
    "| Rings | integer | +1.5 gives the age in years|\n",
    "\n",
    "Much of the code to conduct this enterprise has already been filled in for you.  Where your input is required will be clear as it will say “*code here*“.  You’ll replace those sections with the appropriate code snippets you learn as we go through this notebook together.  You should feel free to make as many comments and notes as is helpful for your future self (you can make an inline comment by beginning a line with the “#” character)."
   ]
  },
  {
   "cell_type": "markdown",
   "metadata": {},
   "source": [
    "# Connect to Database\n",
    "\n",
    "Establishing the sql connection and loading the data into the GPDB is done behind the scenes here through the call to the `___` function in the interest in getting more quickly to the sections on analytics."
   ]
  },
  {
   "cell_type": "code",
   "execution_count": null,
   "metadata": {
    "ExecuteTime": {
     "end_time": "2019-01-15T22:14:02.908982Z",
     "start_time": "2019-01-15T22:14:02.445839Z"
    }
   },
   "outputs": [],
   "source": [
    "%matplotlib inline"
   ]
  },
  {
   "cell_type": "code",
   "execution_count": null,
   "metadata": {
    "ExecuteTime": {
     "end_time": "2019-01-15T22:14:03.326866Z",
     "start_time": "2019-01-15T22:14:02.911360Z"
    }
   },
   "outputs": [],
   "source": [
    "import dbconnect"
   ]
  },
  {
   "cell_type": "code",
   "execution_count": null,
   "metadata": {
    "ExecuteTime": {
     "end_time": "2019-01-15T22:14:03.701162Z",
     "start_time": "2019-01-15T22:14:03.329045Z"
    }
   },
   "outputs": [],
   "source": [
    "db_credential_file = '../.dbcred'\n",
    "dbconnect.connect_and_register_sql_magic(db_credential_file)"
   ]
  },
  {
   "cell_type": "code",
   "execution_count": null,
   "metadata": {
    "ExecuteTime": {
     "end_time": "2019-01-15T22:14:03.707581Z",
     "start_time": "2019-01-15T22:14:03.704724Z"
    }
   },
   "outputs": [],
   "source": [
    "import pandas as pd\n",
    "from sqlalchemy import create_engine"
   ]
  },
  {
   "cell_type": "code",
   "execution_count": null,
   "metadata": {
    "ExecuteTime": {
     "end_time": "2019-01-15T22:14:03.713463Z",
     "start_time": "2019-01-15T22:14:03.710103Z"
    }
   },
   "outputs": [],
   "source": [
    "pd.set_option('display.max_columns', 200)"
   ]
  },
  {
   "cell_type": "markdown",
   "metadata": {},
   "source": [
    "## Load Data: Abalone"
   ]
  },
  {
   "cell_type": "code",
   "execution_count": null,
   "metadata": {
    "ExecuteTime": {
     "end_time": "2019-01-15T22:14:06.004205Z",
     "start_time": "2019-01-15T22:14:05.997294Z"
    }
   },
   "outputs": [],
   "source": [
    "abalone_columns = (\n",
    "    'sex',\n",
    "    'length',\n",
    "    'diameter',\n",
    "    'height',\n",
    "    'whole_weight',\n",
    "    'shucked_weight',\n",
    "    'viscera_weight',\n",
    "    'shell_weight',\n",
    "    'rings'\n",
    ")\n",
    "len(abalone_columns)"
   ]
  },
  {
   "cell_type": "code",
   "execution_count": null,
   "metadata": {
    "ExecuteTime": {
     "end_time": "2019-01-15T22:14:06.531349Z",
     "start_time": "2019-01-15T22:14:06.517195Z"
    }
   },
   "outputs": [],
   "source": [
    "df_abalone = pd.read_csv('../input/abalone.data', names=abalone_columns)"
   ]
  },
  {
   "cell_type": "code",
   "execution_count": null,
   "metadata": {
    "ExecuteTime": {
     "end_time": "2019-01-15T22:14:07.943773Z",
     "start_time": "2019-01-15T22:14:07.934497Z"
    }
   },
   "outputs": [],
   "source": [
    "df_abalone.info()"
   ]
  },
  {
   "cell_type": "code",
   "execution_count": null,
   "metadata": {
    "ExecuteTime": {
     "end_time": "2019-01-15T22:14:09.807944Z",
     "start_time": "2019-01-15T22:14:09.803709Z"
    }
   },
   "outputs": [],
   "source": [
    "df_abalone['sex'] = df_abalone['sex'].str.lower()"
   ]
  },
  {
   "cell_type": "code",
   "execution_count": null,
   "metadata": {
    "ExecuteTime": {
     "end_time": "2019-01-15T22:14:10.298808Z",
     "start_time": "2019-01-15T22:14:10.024535Z"
    }
   },
   "outputs": [],
   "source": [
    "(df_abalone.rings + 1.5).hist(bins=30)"
   ]
  },
  {
   "cell_type": "code",
   "execution_count": null,
   "metadata": {
    "ExecuteTime": {
     "end_time": "2019-01-15T22:14:11.844956Z",
     "start_time": "2019-01-15T22:14:11.838475Z"
    }
   },
   "outputs": [],
   "source": [
    "((df_abalone.rings + 1.5) >= 3).value_counts()"
   ]
  },
  {
   "cell_type": "code",
   "execution_count": null,
   "metadata": {
    "ExecuteTime": {
     "end_time": "2019-01-15T22:14:12.020589Z",
     "start_time": "2019-01-15T22:14:12.007051Z"
    }
   },
   "outputs": [],
   "source": [
    "_cumsum = (df_abalone.rings + 1.5).value_counts().sort_index().cumsum()\n",
    "_cumsum / df_abalone.shape[0]"
   ]
  },
  {
   "cell_type": "code",
   "execution_count": null,
   "metadata": {
    "ExecuteTime": {
     "end_time": "2019-01-15T22:14:14.551357Z",
     "start_time": "2019-01-15T22:14:14.523807Z"
    }
   },
   "outputs": [],
   "source": [
    "engine = create_engine(\n",
    "    'postgresql://{user}:{password}@{host}:{port}/{database}'.format(\n",
    "        **dbconnect.fetchDBCredentials('../.dbcred')\n",
    "    )\n",
    ")"
   ]
  },
  {
   "cell_type": "code",
   "execution_count": null,
   "metadata": {
    "ExecuteTime": {
     "end_time": "2019-01-15T22:14:17.549047Z",
     "start_time": "2019-01-15T22:14:17.546887Z"
    }
   },
   "outputs": [],
   "source": [
    "schema = 'ds_training_wnv'"
   ]
  },
  {
   "cell_type": "code",
   "execution_count": null,
   "metadata": {
    "ExecuteTime": {
     "end_time": "2019-01-15T22:17:30.205960Z",
     "start_time": "2019-01-15T22:17:29.922966Z"
    }
   },
   "outputs": [],
   "source": [
    "%read_sql DROP SCHEMA IF EXISTS {schema} CASCADE;\n",
    "%read_sql CREATE SCHEMA {schema};"
   ]
  },
  {
   "cell_type": "code",
   "execution_count": null,
   "metadata": {
    "ExecuteTime": {
     "end_time": "2019-01-15T22:17:33.096791Z",
     "start_time": "2019-01-15T22:17:30.208647Z"
    }
   },
   "outputs": [],
   "source": [
    "df_abalone.to_sql(\n",
    "    'abalone', \n",
    "    engine, \n",
    "    schema=schema, \n",
    "    if_exists='replace', \n",
    "    index=True, \n",
    "    index_label='id',\n",
    "    chunksize=10000)"
   ]
  },
  {
   "cell_type": "code",
   "execution_count": null,
   "metadata": {
    "ExecuteTime": {
     "end_time": "2019-01-15T22:17:33.227592Z",
     "start_time": "2019-01-15T22:17:33.098485Z"
    }
   },
   "outputs": [],
   "source": [
    "%%read_sql\n",
    "SELECT *\n",
    "FROM {schema}.abalone\n",
    "LIMIT 10"
   ]
  },
  {
   "cell_type": "markdown",
   "metadata": {},
   "source": [
    "# Data pre-processing"
   ]
  },
  {
   "cell_type": "markdown",
   "metadata": {},
   "source": [
    "## Define target (age)\n",
    "\n",
    "Our first order of business is to generate our prediction target.  This is a two step process. We’ll create a new column in our data table (“age”) by adding 1.5 to the “rings” column to generate the abalone age.  We’ll then create another column (“mature”) denoting abalone maturity as either a 1 or 0 based whether the age is greater than or equal to an age of 10 years."
   ]
  },
  {
   "cell_type": "code",
   "execution_count": null,
   "metadata": {
    "ExecuteTime": {
     "end_time": "2019-01-15T22:17:33.513428Z",
     "start_time": "2019-01-15T22:17:33.231309Z"
    }
   },
   "outputs": [],
   "source": [
    "%%read_sql\n",
    "DROP TABLE IF EXISTS {schema}.abalone_target;\n",
    "CREATE TABLE {schema}.abalone_target\n",
    "AS\n",
    "SELECT \n",
    "    *,\n",
    "    rings + 1.5 as age,\n",
    "    CASE WHEN \n",
    "            (rings + 1.5) >= 10.0\n",
    "        THEN 1\n",
    "        ELSE 0\n",
    "    END as mature\n",
    "FROM {schema}.abalone"
   ]
  },
  {
   "cell_type": "code",
   "execution_count": null,
   "metadata": {
    "ExecuteTime": {
     "end_time": "2019-01-15T22:17:33.656537Z",
     "start_time": "2019-01-15T22:17:33.517641Z"
    }
   },
   "outputs": [],
   "source": [
    "%%read_sql\n",
    "SELECT *\n",
    "FROM {schema}.abalone_target \n",
    "LIMIT 10"
   ]
  },
  {
   "cell_type": "code",
   "execution_count": null,
   "metadata": {
    "ExecuteTime": {
     "end_time": "2019-01-15T22:17:33.774415Z",
     "start_time": "2019-01-15T22:17:33.661012Z"
    }
   },
   "outputs": [],
   "source": [
    "%%read_sql\n",
    "SELECT sum(mature), count(*)\n",
    "FROM {schema}.abalone_target \n"
   ]
  },
  {
   "cell_type": "markdown",
   "metadata": {},
   "source": [
    "## Encode categorical variables\n",
    "\n",
    "The next thing is to leverage [MADlib to one-hot encode](http://madlib.apache.org/docs/latest/group__grp__encode__categorical.html) the “sex” column which is a categorical variable.  In order to create a predictive model, we need all our columns to be numerical values.  Making sure all our model inputs conform to this standard is an important part of the data science modeling pipeline and is considered part of the preprocessing/data cleaning step of the process. "
   ]
  },
  {
   "cell_type": "code",
   "execution_count": null,
   "metadata": {
    "ExecuteTime": {
     "end_time": "2019-01-15T22:17:34.048890Z",
     "start_time": "2019-01-15T22:17:33.781172Z"
    }
   },
   "outputs": [],
   "source": [
    "%%read_sql\n",
    "SELECT\n",
    "madlib.encode_categorical_variables (\n",
    "        '{schema}.abalone_target',  -- input table\n",
    "        '{schema}.abalone_encoded',  -- output table\n",
    "        'sex',   -- categorical_cols\n",
    "        NULL,  --categorical_cols_to_exclude    -- Optional\n",
    "        NULL,  --row_id,                         -- Optional\n",
    "        NULL,  --top,                            -- Optional\n",
    "        NULL,  --value_to_drop,                  -- Optional\n",
    "        NULL,  --encode_null,                    -- Optional\n",
    "        NULL,  --output_type,                    -- Optional\n",
    "        NULL,  --output_dictionary,              -- Optional\n",
    "        NULL  --distributed_by                  -- Optional\n",
    "    )"
   ]
  },
  {
   "cell_type": "code",
   "execution_count": null,
   "metadata": {
    "ExecuteTime": {
     "end_time": "2019-01-15T22:17:34.180223Z",
     "start_time": "2019-01-15T22:17:34.051314Z"
    }
   },
   "outputs": [],
   "source": [
    "%%read_sql\n",
    "SELECT *\n",
    "FROM {schema}.abalone_encoded\n",
    "LIMIT 5"
   ]
  },
  {
   "cell_type": "markdown",
   "metadata": {},
   "source": [
    "# Explore data"
   ]
  },
  {
   "cell_type": "code",
   "execution_count": null,
   "metadata": {
    "ExecuteTime": {
     "end_time": "2019-01-15T22:17:35.054346Z",
     "start_time": "2019-01-15T22:17:34.183005Z"
    }
   },
   "outputs": [],
   "source": [
    "%%read_sql\n",
    "SELECT\n",
    "madlib.summary ( \n",
    "    '{schema}.abalone_encoded',  -- source_table,\n",
    "    '{schema}.abalone_summary',  -- output_table,\n",
    "    NULL,  -- target_cols,\n",
    "    NULL  -- grouping_cols,\n",
    ")"
   ]
  },
  {
   "cell_type": "code",
   "execution_count": null,
   "metadata": {
    "ExecuteTime": {
     "end_time": "2019-01-15T22:17:35.213106Z",
     "start_time": "2019-01-15T22:17:35.056388Z"
    }
   },
   "outputs": [],
   "source": [
    "%%read_sql\n",
    "SELECT *\n",
    "FROM {schema}.abalone_summary\n",
    "LIMIT 15"
   ]
  },
  {
   "cell_type": "code",
   "execution_count": null,
   "metadata": {
    "ExecuteTime": {
     "end_time": "2019-01-15T22:17:35.324360Z",
     "start_time": "2019-01-15T22:17:35.217695Z"
    }
   },
   "outputs": [],
   "source": [
    "%%read_sql\n",
    "SELECT target_column\n",
    "from {schema}.abalone_summary"
   ]
  },
  {
   "cell_type": "code",
   "execution_count": null,
   "metadata": {
    "ExecuteTime": {
     "end_time": "2019-01-15T22:17:35.457453Z",
     "start_time": "2019-01-15T22:17:35.327461Z"
    }
   },
   "outputs": [],
   "source": [
    "%%read_sql\n",
    "SELECT *\n",
    "FROM {schema}.abalone_encoded\n",
    "limit 3"
   ]
  },
  {
   "cell_type": "code",
   "execution_count": null,
   "metadata": {
    "ExecuteTime": {
     "end_time": "2019-01-15T22:17:35.870871Z",
     "start_time": "2019-01-15T22:17:35.460061Z"
    }
   },
   "outputs": [],
   "source": [
    "%%read_sql\n",
    "SELECT\n",
    "madlib.correlation(\n",
    "    '{schema}.abalone_encoded', -- source_table,\n",
    "    '{schema}.abalone_correlations', -- output_table,\n",
    "    'length,diameter,height,whole_weight,shucked_weight,viscera_weight,shell_weight,rings', -- target_cols,\n",
    "    TRUE, -- verbose,\n",
    "    'sex_f,sex_i,sex_m'  -- grouping_columns\n",
    ")"
   ]
  },
  {
   "cell_type": "code",
   "execution_count": null,
   "metadata": {
    "ExecuteTime": {
     "end_time": "2019-01-15T22:17:36.012636Z",
     "start_time": "2019-01-15T22:17:35.873338Z"
    }
   },
   "outputs": [],
   "source": [
    "%%read_sql\n",
    "SELECT * \n",
    "from {schema}.abalone_correlations\n",
    "ORDER BY sex_m, sex_f, sex_i, column_position"
   ]
  },
  {
   "cell_type": "code",
   "execution_count": null,
   "metadata": {
    "ExecuteTime": {
     "end_time": "2019-01-15T22:17:36.440523Z",
     "start_time": "2019-01-15T22:17:36.016755Z"
    }
   },
   "outputs": [],
   "source": [
    "%%read_sql\n",
    "SELECT\n",
    "madlib.train_test_split(\n",
    "    '{schema}.abalone_encoded', -- source_table,\n",
    "    '{schema}.abalone_classif', -- output_table,\n",
    "    0.7, -- train_proportion,\n",
    "    NULL, -- test_proportion,\n",
    "    NULL, -- grouping_cols,\n",
    "    'id,length,diameter,height,whole_weight,shucked_weight,viscera_weight,shell_weight,sex_f,sex_i,sex_m,mature', -- target_cols,\n",
    "    FALSE, -- with_replacement,\n",
    "    TRUE -- separate_output_tables\n",
    ")"
   ]
  },
  {
   "cell_type": "markdown",
   "metadata": {},
   "source": [
    "The train/test flag is in column `split`. `1` means train, `0` means test"
   ]
  },
  {
   "cell_type": "code",
   "execution_count": null,
   "metadata": {
    "ExecuteTime": {
     "end_time": "2019-01-15T22:17:55.397959Z",
     "start_time": "2019-01-15T22:17:55.283578Z"
    }
   },
   "outputs": [],
   "source": [
    "%%read_sql\n",
    "SELECT count(*) as n\n",
    "FROM {schema}.abalone_classif_train"
   ]
  },
  {
   "cell_type": "code",
   "execution_count": null,
   "metadata": {
    "ExecuteTime": {
     "end_time": "2019-01-15T22:17:58.557090Z",
     "start_time": "2019-01-15T22:17:58.453305Z"
    }
   },
   "outputs": [],
   "source": [
    "%%read_sql\n",
    "SELECT count(*) as n\n",
    "FROM {schema}.abalone_classif_test"
   ]
  },
  {
   "cell_type": "markdown",
   "metadata": {},
   "source": [
    "# Modeling"
   ]
  },
  {
   "cell_type": "markdown",
   "metadata": {},
   "source": [
    "## Classification"
   ]
  },
  {
   "cell_type": "markdown",
   "metadata": {},
   "source": [
    "### Logistic Regression"
   ]
  },
  {
   "cell_type": "markdown",
   "metadata": {},
   "source": [
    "Note: drop one of the 1-hot-encoded variables to remove perfect collinearity"
   ]
  },
  {
   "cell_type": "code",
   "execution_count": null,
   "metadata": {
    "ExecuteTime": {
     "end_time": "2019-01-15T22:18:06.176675Z",
     "start_time": "2019-01-15T22:18:05.293045Z"
    }
   },
   "outputs": [],
   "source": [
    "%%read_sql\n",
    "SELECT\n",
    "madlib.logregr_train(\n",
    "    '{schema}.abalone_classif_train', -- source_table,\n",
    "    '{schema}.abalone_logreg_model', -- out_table,\n",
    "    'mature', -- dependent_varname,\n",
    "    'ARRAY[\n",
    "        1,\n",
    "        length,\n",
    "        diameter,\n",
    "        height,\n",
    "        whole_weight,\n",
    "        shucked_weight,\n",
    "        viscera_weight,\n",
    "        shell_weight,\n",
    "        sex_f,\n",
    "        sex_m\n",
    "    ]' -- independent_varname,\n",
    "    --, -- grouping_cols,\n",
    "    --, -- max_iter,\n",
    "    --, -- optimizer,\n",
    "    --, -- tolerance,\n",
    "     -- verbose\n",
    ")"
   ]
  },
  {
   "cell_type": "code",
   "execution_count": null,
   "metadata": {
    "ExecuteTime": {
     "end_time": "2019-01-15T22:18:06.309899Z",
     "start_time": "2019-01-15T22:18:06.179052Z"
    }
   },
   "outputs": [],
   "source": [
    "%%read_sql\n",
    "SELECT *\n",
    "FROM {schema}.abalone_logreg_model\n",
    "LIMIT 5"
   ]
  },
  {
   "cell_type": "markdown",
   "metadata": {},
   "source": [
    "cross join model with table to be scored"
   ]
  },
  {
   "cell_type": "code",
   "execution_count": null,
   "metadata": {
    "ExecuteTime": {
     "end_time": "2019-01-15T22:18:09.982026Z",
     "start_time": "2019-01-15T22:18:09.821644Z"
    }
   },
   "outputs": [],
   "source": [
    "%%read_sql\n",
    "CREATE TABLE {schema}.abalone_logreg_test_proba\n",
    "AS\n",
    "SELECT madlib.logregr_predict_prob(\n",
    "        coef, \n",
    "        ARRAY[\n",
    "            1,\n",
    "            length,\n",
    "            diameter,\n",
    "            height,\n",
    "            whole_weight,\n",
    "            shucked_weight,\n",
    "            viscera_weight,\n",
    "            shell_weight,\n",
    "            sex_f,\n",
    "            sex_m\n",
    "        ] \n",
    "    ) as proba,\n",
    "    test.mature\n",
    "FROM {schema}.abalone_classif_test test, {schema}.abalone_logreg_model model\n",
    ";"
   ]
  },
  {
   "cell_type": "code",
   "execution_count": null,
   "metadata": {
    "ExecuteTime": {
     "end_time": "2019-01-15T22:18:12.863945Z",
     "start_time": "2019-01-15T22:18:12.754661Z"
    }
   },
   "outputs": [],
   "source": [
    "%%read_sql\n",
    "SELECT *\n",
    "FROM {schema}.abalone_logreg_test_proba\n",
    "LIMIT 4"
   ]
  },
  {
   "cell_type": "code",
   "execution_count": null,
   "metadata": {
    "ExecuteTime": {
     "end_time": "2019-01-15T22:18:15.686238Z",
     "start_time": "2019-01-15T22:18:15.461349Z"
    }
   },
   "outputs": [],
   "source": [
    "%%read_sql\n",
    "SELECT\n",
    "madlib.area_under_roc(\n",
    "    '{schema}.abalone_logreg_test_proba', -- table_in, \n",
    "    '{schema}.abalone_logreg_test_auc',  --table_out,\n",
    "    'proba',  -- prediction_col, \n",
    "    'mature'  --observed_col, \n",
    ")"
   ]
  },
  {
   "cell_type": "code",
   "execution_count": null,
   "metadata": {
    "ExecuteTime": {
     "end_time": "2019-01-15T22:18:18.192467Z",
     "start_time": "2019-01-15T22:18:18.084616Z"
    }
   },
   "outputs": [],
   "source": [
    "%%read_sql\n",
    "SELECT *\n",
    "FROM {schema}.abalone_logreg_test_auc"
   ]
  },
  {
   "cell_type": "code",
   "execution_count": null,
   "metadata": {
    "ExecuteTime": {
     "end_time": "2019-01-15T22:18:18.856724Z",
     "start_time": "2019-01-15T22:18:18.722209Z"
    }
   },
   "outputs": [],
   "source": [
    "%%read_sql\n",
    "CREATE TABLE {schema}.abalone_logreg_test_predict\n",
    "AS\n",
    "SELECT\n",
    "    (proba >= 0.5)::integer as predicted,\n",
    "    mature\n",
    "FROM {schema}.abalone_logreg_test_proba"
   ]
  },
  {
   "cell_type": "code",
   "execution_count": null,
   "metadata": {
    "ExecuteTime": {
     "end_time": "2019-01-15T22:18:22.727889Z",
     "start_time": "2019-01-15T22:18:22.437118Z"
    }
   },
   "outputs": [],
   "source": [
    "%%read_sql\n",
    "SELECT\n",
    "madlib.confusion_matrix(\n",
    "    '{schema}.abalone_logreg_test_predict', -- table_in\n",
    "    '{schema}.abalone_logreg_test_conf_matrix', -- table_out\n",
    "    'predicted',  --prediction_col\n",
    "    'mature' --observation_col\n",
    ")"
   ]
  },
  {
   "cell_type": "markdown",
   "metadata": {},
   "source": [
    "Check by hand which axis corresponds to actual vs predicted"
   ]
  },
  {
   "cell_type": "code",
   "execution_count": null,
   "metadata": {
    "ExecuteTime": {
     "end_time": "2019-01-15T22:18:24.583934Z",
     "start_time": "2019-01-15T22:18:24.466882Z"
    }
   },
   "outputs": [],
   "source": [
    "%%read_sql\n",
    "SELECT\n",
    "    count(*)\n",
    "FROM {schema}.abalone_logreg_test_predict\n",
    "WHERE\n",
    "    predicted = 1 AND\n",
    "    mature = 0\n"
   ]
  },
  {
   "cell_type": "code",
   "execution_count": null,
   "metadata": {
    "ExecuteTime": {
     "end_time": "2019-01-15T22:18:26.012211Z",
     "start_time": "2019-01-15T22:18:25.897938Z"
    }
   },
   "outputs": [],
   "source": [
    "%%read_sql\n",
    "SELECT \n",
    "    row_id,\n",
    "    class,\n",
    "    confusion_arr[1] as predicted_0,\n",
    "    confusion_arr[2] as predicted_1\n",
    "FROM {schema}.abalone_logreg_test_conf_matrix\n",
    "ORDER BY row_id"
   ]
  },
  {
   "cell_type": "markdown",
   "metadata": {},
   "source": [
    "Get ROC values (thresholds, true-positives, false-positives)"
   ]
  },
  {
   "cell_type": "code",
   "execution_count": null,
   "metadata": {
    "ExecuteTime": {
     "end_time": "2019-01-15T22:18:27.935827Z",
     "start_time": "2019-01-15T22:18:27.678121Z"
    }
   },
   "outputs": [],
   "source": [
    "%%read_sql\n",
    "SELECT\n",
    "madlib.binary_classifier(\n",
    "    '{schema}.abalone_logreg_test_proba', -- table_in\n",
    "    '{schema}.abalone_logreg_test_binary_metrics', -- table_out\n",
    "    'proba',  --prediction_col\n",
    "    'mature' --observation_col\n",
    ")"
   ]
  },
  {
   "cell_type": "code",
   "execution_count": null,
   "metadata": {
    "ExecuteTime": {
     "end_time": "2019-01-15T22:18:29.990524Z",
     "start_time": "2019-01-15T22:18:29.845377Z"
    }
   },
   "outputs": [],
   "source": [
    "%%read_sql\n",
    "SELECT *\n",
    "FROM {schema}.abalone_logreg_test_binary_metrics\n",
    "WHERE \n",
    "    --round(threshold::numeric, 1) = 0.5\n",
    "    threshold >= 0.48 AND\n",
    "    threshold <= 0.52\n",
    "ORDER BY threshold"
   ]
  },
  {
   "cell_type": "markdown",
   "metadata": {},
   "source": [
    "### Random Forest"
   ]
  },
  {
   "cell_type": "code",
   "execution_count": null,
   "metadata": {
    "ExecuteTime": {
     "end_time": "2019-01-15T22:18:35.604431Z",
     "start_time": "2019-01-15T22:18:35.483426Z"
    }
   },
   "outputs": [],
   "source": [
    "%%read_sql\n",
    "SELECT * \n",
    "FROM {schema}.abalone_classif_train\n",
    "LIMIT 5"
   ]
  },
  {
   "cell_type": "code",
   "execution_count": null,
   "metadata": {
    "ExecuteTime": {
     "end_time": "2019-01-15T22:37:38.580919Z",
     "start_time": "2019-01-15T22:37:33.635881Z"
    }
   },
   "outputs": [],
   "source": [
    "%%read_sql\n",
    "SELECT\n",
    "madlib.forest_train(\n",
    "    '{schema}.abalone_classif_train',  -- training_table_name\n",
    "    '{schema}.abalone_rf_model',  -- output_table_name\n",
    "    'id',  -- id_col_name\n",
    "    'mature',  -- dependent_variable\n",
    "    'length,diameter,height,whole_weight,shucked_weight,viscera_weight,shell_weight,sex_f,sex_m',  -- list_of_features\n",
    "    NULL,  -- list_of_features_to_exclude\n",
    "    NULL,  -- grouping_columns\n",
    "    10  -- number of trees\n",
    ")\n"
   ]
  },
  {
   "cell_type": "code",
   "execution_count": null,
   "metadata": {
    "ExecuteTime": {
     "end_time": "2019-01-15T22:44:49.933003Z",
     "start_time": "2019-01-15T22:44:46.051092Z"
    }
   },
   "outputs": [],
   "source": [
    "%%read_sql\n",
    "SELECT * \n",
    "FROM {schema}.abalone_rf_model\n",
    "LIMIT 10"
   ]
  },
  {
   "cell_type": "code",
   "execution_count": null,
   "metadata": {
    "ExecuteTime": {
     "end_time": "2019-01-15T22:51:02.816600Z",
     "start_time": "2019-01-15T22:51:02.078112Z"
    }
   },
   "outputs": [],
   "source": [
    "%%read_sql\n",
    "SELECT\n",
    "madlib.forest_predict(\n",
    "    '{schema}.abalone_rf_model',  -- random_forest_model\n",
    "    '{schema}.abalone_classif_test',  -- new_data_table\n",
    "    '{schema}.abalone_rf_test_proba',  -- output_table\n",
    "    'prob'  -- type\n",
    ")"
   ]
  },
  {
   "cell_type": "code",
   "execution_count": null,
   "metadata": {
    "ExecuteTime": {
     "end_time": "2019-01-15T22:51:19.322504Z",
     "start_time": "2019-01-15T22:51:19.211547Z"
    }
   },
   "outputs": [],
   "source": [
    "%%read_sql\n",
    "SELECT * \n",
    "FROM {schema}.abalone_rf_test_proba\n",
    "LIMIT 5"
   ]
  },
  {
   "cell_type": "code",
   "execution_count": null,
   "metadata": {},
   "outputs": [],
   "source": []
  }
 ],
 "metadata": {
  "kernelspec": {
   "display_name": "Python 3.7",
   "language": "python",
   "name": "py37"
  },
  "language_info": {
   "codemirror_mode": {
    "name": "ipython",
    "version": 3
   },
   "file_extension": ".py",
   "mimetype": "text/x-python",
   "name": "python",
   "nbconvert_exporter": "python",
   "pygments_lexer": "ipython3",
   "version": "3.7.0"
  },
  "toc": {
   "base_numbering": 1,
   "nav_menu": {},
   "number_sections": true,
   "sideBar": true,
   "skip_h1_title": false,
   "title_cell": "Table of Contents",
   "title_sidebar": "Contents",
   "toc_cell": false,
   "toc_position": {
    "height": "calc(100% - 180px)",
    "left": "10px",
    "top": "150px",
    "width": "193.991px"
   },
   "toc_section_display": true,
   "toc_window_display": true
  }
 },
 "nbformat": 4,
 "nbformat_minor": 2
}
